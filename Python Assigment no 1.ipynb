{
 "cells": [
  {
   "cell_type": "markdown",
   "metadata": {},
   "source": [
    "## PIAIC ISLAMABAD (BATCH 3)\n",
    "### Python Assigment (All String Methods tried and explained)\n",
    "### Class Timing: 12:15 - 3:15 (Bahria University)\n",
    "### Muhammad Usama Hameed (PIAIC57859)"
   ]
  },
  {
   "cell_type": "code",
   "execution_count": 99,
   "metadata": {},
   "outputs": [],
   "source": [
    "import this\n"
   ]
  },
  {
   "cell_type": "code",
   "execution_count": 3,
   "metadata": {},
   "outputs": [
    {
     "name": "stdout",
     "output_type": "stream",
     "text": [
      "Pakistan is our country, I love Pakistan\n"
     ]
    }
   ],
   "source": [
    "print(\"Pakistan is our country, I love Pakistan\")"
   ]
  },
  {
   "cell_type": "code",
   "execution_count": 5,
   "metadata": {},
   "outputs": [
    {
     "name": "stdout",
     "output_type": "stream",
     "text": [
      "Pakistan is our country, I love Pakistan\n"
     ]
    }
   ],
   "source": [
    "print(\"\"\"Pakistan is our country, I love Pakistan\"\"\")"
   ]
  },
  {
   "cell_type": "code",
   "execution_count": 6,
   "metadata": {},
   "outputs": [
    {
     "name": "stdout",
     "output_type": "stream",
     "text": [
      "Pakistan is our country, I love Pakistan\n"
     ]
    }
   ],
   "source": [
    "print('''Pakistan is our country, I love Pakistan''')"
   ]
  },
  {
   "cell_type": "code",
   "execution_count": 13,
   "metadata": {},
   "outputs": [
    {
     "name": "stdout",
     "output_type": "stream",
     "text": [
      "s\n"
     ]
    }
   ],
   "source": [
    "#Get the character at position 1 (remember that the first character has the position 0):\n",
    "z=\"Pakistan is our country, I love Pakistan\"\n",
    "print(z[10])"
   ]
  },
  {
   "cell_type": "code",
   "execution_count": 12,
   "metadata": {},
   "outputs": [
    {
     "name": "stdout",
     "output_type": "stream",
     "text": [
      "Pakistan \n"
     ]
    }
   ],
   "source": [
    "#You can return a range of characters by using the slice syntax.\n",
    "#Specify the start index and the end index, separated by a colon, to return a part of the string.\n",
    "z=\"Pakistan is our country, I love Pakistan\"\n",
    "print(z[0:9])"
   ]
  },
  {
   "cell_type": "code",
   "execution_count": 81,
   "metadata": {},
   "outputs": [
    {
     "name": "stdout",
     "output_type": "stream",
     "text": [
      "True\n",
      "False\n"
     ]
    }
   ],
   "source": [
    "Z = \"Pakistan47\"\n",
    "#The isalnum() method returns True if all the characters are alphanumeric, meaning alphabet letter (a-z) and numbers (0-9)\n",
    "print(Z.isalnum())\n",
    "#The isalpha() method returns True if all the characters are alphabet letters (a-z)\n",
    "print(Z.isalpha())"
   ]
  },
  {
   "cell_type": "code",
   "execution_count": 2,
   "metadata": {},
   "outputs": [
    {
     "name": "stdout",
     "output_type": "stream",
     "text": [
      "40\n"
     ]
    }
   ],
   "source": [
    "#The len() function returns the length of a string:\n",
    "z=\"Pakistan is our country, I love Pakistan\"\n",
    "print(len(z))"
   ]
  },
  {
   "cell_type": "code",
   "execution_count": 4,
   "metadata": {},
   "outputs": [
    {
     "name": "stdout",
     "output_type": "stream",
     "text": [
      "Pakistan is our country, I love Pakistan\n"
     ]
    }
   ],
   "source": [
    "#The strip() method removes any whitespace from the beginning or the end:\n",
    "z=\"    Pakistan is our country, I love Pakistan   \"\n",
    "print(z.strip())"
   ]
  },
  {
   "cell_type": "code",
   "execution_count": 5,
   "metadata": {},
   "outputs": [
    {
     "name": "stdout",
     "output_type": "stream",
     "text": [
      "pakistan is our country, i love pakistan\n"
     ]
    }
   ],
   "source": [
    "#The lower() method returns the string in lower case:\n",
    "z=\"Pakistan is our country, I love Pakistan\"\n",
    "print(z.lower())"
   ]
  },
  {
   "cell_type": "code",
   "execution_count": 6,
   "metadata": {},
   "outputs": [
    {
     "name": "stdout",
     "output_type": "stream",
     "text": [
      "PAKISTAN IS OUR COUNTRY, I LOVE PAKISTAN\n"
     ]
    }
   ],
   "source": [
    "#The upper() method returns the string in upper case:\n",
    "z=\"Pakistan is our country, I love Pakistan\"\n",
    "print(z.upper())"
   ]
  },
  {
   "cell_type": "code",
   "execution_count": 22,
   "metadata": {},
   "outputs": [
    {
     "name": "stdout",
     "output_type": "stream",
     "text": [
      "Pakistan, Country\n"
     ]
    }
   ],
   "source": [
    "#The replace() method replaces a string with another string:\n",
    "z=\"Pakistan, Country\"\n",
    "print(z.replace(\"A\", \"H\"))"
   ]
  },
  {
   "cell_type": "code",
   "execution_count": 25,
   "metadata": {},
   "outputs": [
    {
     "name": "stdout",
     "output_type": "stream",
     "text": [
      "['Pakistan', ' Country']\n"
     ]
    }
   ],
   "source": [
    "#The split() method splits the string into substrings if it finds instances of the separator:\n",
    "z=\"Pakistan, Country\"\n",
    "print(z.split(\",\"))"
   ]
  },
  {
   "cell_type": "code",
   "execution_count": 94,
   "metadata": {},
   "outputs": [
    {
     "name": "stdout",
     "output_type": "stream",
     "text": [
      "True\n",
      "False\n"
     ]
    }
   ],
   "source": [
    "#Check if the phrase \"ain\" is present in the following text:\n",
    "z=\"Pakistan, Country\"\n",
    "s = \"tan\" in z\n",
    "print(s)\n",
    "#Check if the phrase \"ain\" is NOT present in the following text:\n",
    "t = \"tan\" not in z\n",
    "print(t)"
   ]
  },
  {
   "cell_type": "code",
   "execution_count": 28,
   "metadata": {},
   "outputs": [
    {
     "name": "stdout",
     "output_type": "stream",
     "text": [
      "Hello Pakistan I'm Usama\n"
     ]
    }
   ],
   "source": [
    "#Merge variable a with variable b into variable c:\n",
    "#To add a space between them, add a \" \":\n",
    "a = \"Hello\"\n",
    "b = \"Pakistan\"\n",
    "c = \"I'm Usama\"\n",
    "d = a +\" \"+ b +\" \"+ c\n",
    "print(d)"
   ]
  },
  {
   "cell_type": "code",
   "execution_count": 32,
   "metadata": {},
   "outputs": [
    {
     "name": "stdout",
     "output_type": "stream",
     "text": [
      "I pass my 10th class 87 percent, and F.Sc PartI with 85 percent, and PartII with 88 percent.\n"
     ]
    }
   ],
   "source": [
    "#we can combine strings and numbers by using the format() method!\n",
    "#The format() method takes the passed arguments, formats them, and places them in the string where the placeholders {} are:\n",
    "Matric = 87\n",
    "FScI = 85\n",
    "FScII = 88\n",
    "Z = \"I pass my 10th class {} percent, and F.Sc PartI with {} percent, and PartII with {} percent.\"\n",
    "print(Z.format(Matric, FScI, FScII))"
   ]
  },
  {
   "cell_type": "code",
   "execution_count": 95,
   "metadata": {},
   "outputs": [
    {
     "name": "stdout",
     "output_type": "stream",
     "text": [
      "I pass my 10th class 88 percent, and F.Sc PartI with 87 percent, and PartII with 85 percent.\n"
     ]
    }
   ],
   "source": [
    "#You can use index numbers {0} to be sure the arguments are placed in the correct placeholders:\n",
    "Z = \"I pass my 10th class {2} percent, and F.Sc PartI with {0} percent, and PartII with {1} percent.\"\n",
    "print(Z.format(Matric, FScI, FScII))"
   ]
  },
  {
   "cell_type": "code",
   "execution_count": 40,
   "metadata": {},
   "outputs": [
    {
     "name": "stdout",
     "output_type": "stream",
     "text": [
      "Pakistan, country\n"
     ]
    }
   ],
   "source": [
    "z=\"pakistan, Country\"\n",
    "#The capitalize() method returns a string where the first character is upper case.\n",
    "print(z.capitalize())\n"
   ]
  },
  {
   "cell_type": "code",
   "execution_count": 47,
   "metadata": {},
   "outputs": [
    {
     "name": "stdout",
     "output_type": "stream",
     "text": [
      "           Country            \n",
      "-----------Country------------\n"
     ]
    }
   ],
   "source": [
    "z=\"Country\"\n",
    "#The center() method will center align the string, using a specified character (space is default) as the fill character.\n",
    "print(z.center(30))\n",
    "print(z.center(30, \"-\"))\n"
   ]
  },
  {
   "cell_type": "code",
   "execution_count": 55,
   "metadata": {},
   "outputs": [
    {
     "name": "stdout",
     "output_type": "stream",
     "text": [
      "Country, I'm Usama Hameed Here Is My Assigment\n",
      "country, i'm usama hameed here is my assigment\n",
      "country, i'm usama hameed here is my assigment\n"
     ]
    }
   ],
   "source": [
    "z=\"Country, I'm Usama Hameed\"\n",
    "y=\" Here Is My Assigment\"\n",
    "Z=z+y\n",
    "print(Z)\n",
    "print(Z.casefold())\n",
    "print(Z.lower())"
   ]
  },
  {
   "cell_type": "code",
   "execution_count": 67,
   "metadata": {},
   "outputs": [
    {
     "name": "stdout",
     "output_type": "stream",
     "text": [
      "2\n",
      "1\n"
     ]
    }
   ],
   "source": [
    "Z=\"Pakistan is our country, I love Pakistan\"\n",
    "print(Z.count('Pakistan'))\n",
    "print(Z.count(\"Pakistan\", 15, 40))"
   ]
  },
  {
   "cell_type": "code",
   "execution_count": 68,
   "metadata": {},
   "outputs": [
    {
     "name": "stdout",
     "output_type": "stream",
     "text": [
      "b'Pakistan is our country, I love Pakistan'\n"
     ]
    }
   ],
   "source": [
    "#The encode() method encodes the string, using the specified encoding. If no encoding is specified, UTF-8 will be used.\n",
    "Z=\"Pakistan is our country, I love Pakistan\"\n",
    "print(Z.encode())"
   ]
  },
  {
   "cell_type": "code",
   "execution_count": 76,
   "metadata": {},
   "outputs": [
    {
     "name": "stdout",
     "output_type": "stream",
     "text": [
      "0\n",
      "32\n",
      "27\n"
     ]
    }
   ],
   "source": [
    "Z=\"Pakistan is our country, I love Pakistan\"\n",
    "#The find() method is almost the same as the index() method, the only difference is that the index() method raises an exception if the value is not found.\n",
    "print(Z.find(\"Pakistan\"))\n",
    "print(Z.find(\"Pakistan\", 15, 40))\n",
    "print(Z.index(\"love\"))\n"
   ]
  },
  {
   "cell_type": "code",
   "execution_count": 74,
   "metadata": {},
   "outputs": [
    {
     "name": "stdout",
     "output_type": "stream",
     "text": [
      "-1\n"
     ]
    },
    {
     "ename": "ValueError",
     "evalue": "substring not found",
     "output_type": "error",
     "traceback": [
      "\u001b[1;31m---------------------------------------------------------------------------\u001b[0m",
      "\u001b[1;31mValueError\u001b[0m                                Traceback (most recent call last)",
      "\u001b[1;32m<ipython-input-74-235f23d80daf>\u001b[0m in \u001b[0;36m<module>\u001b[1;34m\u001b[0m\n\u001b[0;32m      1\u001b[0m \u001b[0mZ\u001b[0m\u001b[1;33m=\u001b[0m\u001b[1;34m\"Pakistan is our country, I love Pakistan\"\u001b[0m\u001b[1;33m\u001b[0m\u001b[1;33m\u001b[0m\u001b[0m\n\u001b[0;32m      2\u001b[0m \u001b[0mprint\u001b[0m\u001b[1;33m(\u001b[0m\u001b[0mZ\u001b[0m\u001b[1;33m.\u001b[0m\u001b[0mfind\u001b[0m\u001b[1;33m(\u001b[0m\u001b[1;34m\"Q\"\u001b[0m\u001b[1;33m)\u001b[0m\u001b[1;33m)\u001b[0m\u001b[1;33m\u001b[0m\u001b[1;33m\u001b[0m\u001b[0m\n\u001b[1;32m----> 3\u001b[1;33m \u001b[0mprint\u001b[0m\u001b[1;33m(\u001b[0m\u001b[0mZ\u001b[0m\u001b[1;33m.\u001b[0m\u001b[0mindex\u001b[0m\u001b[1;33m(\u001b[0m\u001b[1;34m\"Q\"\u001b[0m\u001b[1;33m)\u001b[0m\u001b[1;33m)\u001b[0m\u001b[1;33m\u001b[0m\u001b[1;33m\u001b[0m\u001b[0m\n\u001b[0m",
      "\u001b[1;31mValueError\u001b[0m: substring not found"
     ]
    }
   ],
   "source": [
    "Z=\"Pakistan is our country, I love Pakistan\"\n",
    "#The find() method is almost the same as the index() method, the only difference is that the index() method raises an exception if the value is not found.\n",
    "print(Z.find(\"Q\"))\n",
    "print(Z.index(\"Q\"))"
   ]
  },
  {
   "cell_type": "code",
   "execution_count": 86,
   "metadata": {},
   "outputs": [
    {
     "name": "stdout",
     "output_type": "stream",
     "text": [
      "AMERICA is our country, I love AMERICA, AMERICA is my homeland\n",
      "AMERICA is our country, I love AMERICA, Pakistan is my homeland\n"
     ]
    }
   ],
   "source": [
    "#The replace() method replaces a specified phrase with another specified phrase.\n",
    "Z=\"Pakistan is our country, I love Pakistan, Pakistan is my homeland\"\n",
    "print(Z.replace(\"Pakistan\",\"AMERICA\"))\n",
    "print(Z.replace(\"Pakistan\",\"AMERICA\", 2))"
   ]
  },
  {
   "cell_type": "code",
   "execution_count": 90,
   "metadata": {},
   "outputs": [
    {
     "name": "stdout",
     "output_type": "stream",
     "text": [
      "Pakistan Is Our Country, Pakistan Is My Homeland\n",
      "1857Pakistan Is Our Country, 1947Pakistan Is My Homeland\n"
     ]
    }
   ],
   "source": [
    "#The title() method returns a string where the first character in every word is upper case. Like a header, or a title.\n",
    "Z=\"Pakistan is our country, Pakistan is my homeland\"\n",
    "print(Z.title())\n",
    "#If the word contains a number or a symbol, the first letter after that will be converted to upper case.\n",
    "Z=\"1857Pakistan is our country, 1947pakistan is my homeland\"\n",
    "print(Z.title())"
   ]
  },
  {
   "cell_type": "code",
   "execution_count": 91,
   "metadata": {},
   "outputs": [
    {
     "name": "stdout",
     "output_type": "stream",
     "text": [
      "My homeland\n"
     ]
    }
   ],
   "source": [
    "#The strip() method removes any leading (spaces at the beginning) and trailing (spaces at the end) \n",
    "#characters (space is the default leading character to remove)\n",
    "Z=\"    My homeland   \"\n",
    "print(Z.strip())"
   ]
  },
  {
   "cell_type": "code",
   "execution_count": 1,
   "metadata": {},
   "outputs": [
    {
     "name": "stdout",
     "output_type": "stream",
     "text": [
      "Pakistan--country--homeland\n"
     ]
    }
   ],
   "source": [
    "#The join() method takes all items in an iterable and joins them into one string.\n",
    "\n",
    "Z=(\"Pakistan\", \"country\", \"homeland\")\n",
    "print(\"--\".join(Z))\n",
    "\n"
   ]
  },
  {
   "cell_type": "code",
   "execution_count": 2,
   "metadata": {},
   "outputs": [
    {
     "name": "stdout",
     "output_type": "stream",
     "text": [
      "pAKISTAN IS OUR COUNTRY, pAKISTAN IS MY HOMELAND\n"
     ]
    }
   ],
   "source": [
    "#The swapcase() method returns a string where all the upper case letters are lower case and vice versa.\n",
    "Z=\"Pakistan is our country, Pakistan is my homeland\"\n",
    "print(Z.swapcase())"
   ]
  },
  {
   "cell_type": "code",
   "execution_count": 8,
   "metadata": {},
   "outputs": [
    {
     "name": "stdout",
     "output_type": "stream",
     "text": [
      "0000000PAK\n",
      "welcome the PAKISTAN\n",
      "000010.000\n"
     ]
    }
   ],
   "source": [
    "#The zfill() method adds zeros (0) at the beginning of the string, until it reaches the specified length\n",
    "a = \"PAK\"\n",
    "b = \"welcome the PAKISTAN\"\n",
    "c = \"10.000\"\n",
    "print(a.zfill(10))\n",
    "print(b.zfill(10))\n",
    "print(c.zfill(10))"
   ]
  },
  {
   "cell_type": "code",
   "execution_count": 13,
   "metadata": {},
   "outputs": [
    {
     "name": "stdout",
     "output_type": "stream",
     "text": [
      "True\n",
      "True\n",
      "True\n",
      "False\n"
     ]
    }
   ],
   "source": [
    "Z=\"Pakistan is our country, Pakistan is my homeland.\"\n",
    "print(Z.startswith(\"Pakistan\"))\n",
    "print(Z.startswith(\"our\", 12, 20))\n",
    "#The endswith() method returns True if the string ends with the specified value, otherwise False\n",
    "print(Z.endswith(\".\"))\n",
    "print(Z.endswith(\"our\", 12, 18))"
   ]
  },
  {
   "cell_type": "code",
   "execution_count": null,
   "metadata": {},
   "outputs": [],
   "source": []
  }
 ],
 "metadata": {
  "kernelspec": {
   "display_name": "Python 3",
   "language": "python",
   "name": "python3"
  },
  "language_info": {
   "codemirror_mode": {
    "name": "ipython",
    "version": 3
   },
   "file_extension": ".py",
   "mimetype": "text/x-python",
   "name": "python",
   "nbconvert_exporter": "python",
   "pygments_lexer": "ipython3",
   "version": "3.7.1"
  }
 },
 "nbformat": 4,
 "nbformat_minor": 2
}
